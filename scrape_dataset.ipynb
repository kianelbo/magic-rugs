{
 "cells": [
  {
   "cell_type": "code",
   "execution_count": 1,
   "id": "92633907",
   "metadata": {},
   "outputs": [],
   "source": [
    "from selenium import webdriver\n",
    "\n",
    "chrome_options = webdriver.ChromeOptions()\n",
    "chrome_options.add_argument(\"--headless=new\")\n",
    "# chrome_options.add_argument(\"--no-sandbox\")\n",
    "# chrome_options.add_argument(\"--disable-dev-shm-usage\")\n",
    "chrome_options.add_argument(\"--disable-blink-features=AutomationControlled\")\n",
    "chrome_options.add_argument(\"user-agent=Mozilla/5.0 (Windows NT 10.0; Win64; x64) \"\n",
    "                     \"AppleWebKit/537.36 (KHTML, like Gecko) \"\n",
    "                     \"Chrome/128.0.0.0 Safari/537.36\")\n",
    "\n",
    "driver = webdriver.Chrome(options=chrome_options)"
   ]
  },
  {
   "cell_type": "code",
   "execution_count": 2,
   "id": "b9b58045",
   "metadata": {},
   "outputs": [],
   "source": [
    "import os\n",
    "import time\n",
    "import requests\n",
    "from urllib.parse import urlparse, urlunparse\n",
    "from bs4 import BeautifulSoup"
   ]
  },
  {
   "cell_type": "code",
   "execution_count": 3,
   "id": "2e982700",
   "metadata": {},
   "outputs": [],
   "source": [
    "headers = {\"User-Agent\": \"Mozilla/5.0\"}\n",
    "\n",
    "def download_image(url, save_path):\n",
    "    try:\n",
    "        resp = requests.get(url, headers=headers)\n",
    "        if resp.status_code == 200:\n",
    "            with open(save_path, \"wb\") as f:\n",
    "                f.write(resp.content)\n",
    "            return True\n",
    "    except Exception as e:\n",
    "        print(f\"Error downloading {url}: {e}\")\n",
    "    return False"
   ]
  },
  {
   "cell_type": "code",
   "execution_count": 4,
   "id": "e00b442d",
   "metadata": {},
   "outputs": [],
   "source": [
    "def remove_query_params(url):\n",
    "    parsed = urlparse(url)\n",
    "    return urlunparse(parsed._replace(query=\"\"))"
   ]
  },
  {
   "cell_type": "code",
   "execution_count": null,
   "id": "92cdea0e",
   "metadata": {},
   "outputs": [],
   "source": [
    "base_save_dir = \"raw_dataset\"\n",
    "os.makedirs(base_save_dir, exist_ok=True)\n",
    "\n",
    "CATEGORIES = [\"tabriz\", \"keshan\", \"gabbeh\", \"china\", \"berber\", \"afghan\", \"nain\", \"sarouk\", \"kerman\", \"isfahan\"]\n",
    "num_images_per_category = 100"
   ]
  },
  {
   "cell_type": "code",
   "execution_count": null,
   "id": "137c8dcc",
   "metadata": {},
   "outputs": [
    {
     "name": "stdout",
     "output_type": "stream",
     "text": [
      "Scraping category: tabriz\n",
      "Scraping category: keshan\n",
      "Scraping category: gabbeh\n",
      "Scraping category: china\n",
      "Scraping category: berber\n",
      "Scraping category: afghan\n",
      "Scraping category: nain\n",
      "Scraping category: sarouk\n",
      "Scraping completed!\n"
     ]
    }
   ],
   "source": [
    "for category in CATEGORIES:\n",
    "    print(f\"Scraping category: {category}\")\n",
    "    save_dir = os.path.join(base_save_dir, category)\n",
    "    os.makedirs(save_dir, exist_ok=True)\n",
    "\n",
    "    downloaded_count = 0\n",
    "    page = 1\n",
    "\n",
    "    while downloaded_count < num_images_per_category:\n",
    "        url = f\"https://www.rugvista.com/c/rugs/{category}?page={page}\"\n",
    "        driver.get(url)\n",
    "        time.sleep(5)   # wait for JS to render\n",
    "\n",
    "        soup = BeautifulSoup(driver.page_source, \"html.parser\")\n",
    "        divs = soup.find_all(\"div\", class_=\"[&>img]:aspect-[3/4]\")\n",
    "\n",
    "        if not divs:\n",
    "            print(f\"No more items found on page {page}\")\n",
    "            break\n",
    "\n",
    "        for div in divs:\n",
    "            img_tag = div.find(\"img\")\n",
    "            if img_tag and img_tag.get(\"src\"):\n",
    "                cdn_url = remove_query_params(img_tag[\"src\"])\n",
    "                img_name = f\"{category}_{downloaded_count + 1}.jpg\"\n",
    "                save_path = os.path.join(save_dir, img_name)\n",
    "\n",
    "                if download_image(cdn_url, save_path):\n",
    "                    downloaded_count += 1\n",
    "\n",
    "            if downloaded_count >= num_images_per_category:\n",
    "                break\n",
    "\n",
    "        page += 1\n",
    "\n",
    "driver.quit()\n",
    "print(\"Scraping completed!\")"
   ]
  },
  {
   "cell_type": "markdown",
   "id": "beaa730b",
   "metadata": {},
   "source": [
    "### Pad images to make them square and resize to 1024x1024."
   ]
  },
  {
   "cell_type": "code",
   "execution_count": 4,
   "id": "cbe676d7",
   "metadata": {},
   "outputs": [],
   "source": [
    "from PIL import Image\n",
    "\n",
    "output_dir = \"./dataset\"\n",
    "os.makedirs(output_dir, exist_ok=True)\n",
    "\n",
    "target_size = 1024\n",
    "\n",
    "for sub in os.listdir(base_save_dir):\n",
    "    subfolder = os.path.join(base_save_dir, sub)\n",
    "    if not os.path.isdir(subfolder):\n",
    "        continue\n",
    "    for fname in os.listdir(subfolder):\n",
    "        if not fname.lower().endswith(\".jpg\"):\n",
    "            continue\n",
    "        path = os.path.join(subfolder, fname)\n",
    "        img = Image.open(path).convert(\"RGB\")\n",
    "        \n",
    "        w, h = img.size\n",
    "        if w > h:\n",
    "            new_w = target_size\n",
    "            new_h = int(h * target_size / w)\n",
    "        else:\n",
    "            new_h = target_size\n",
    "            new_w = int(w * target_size / h)\n",
    "        img = img.resize((new_w, new_h), Image.BICUBIC)\n",
    "        \n",
    "        # Create square canvas and paste image centered\n",
    "        square_img = Image.new(\"RGB\", (target_size, target_size), (255,255,255))  # white padding\n",
    "        paste_x = (target_size - new_w) // 2\n",
    "        paste_y = (target_size - new_h) // 2\n",
    "        square_img.paste(img, (paste_x, paste_y))\n",
    "        \n",
    "        # Save\n",
    "        out_path = os.path.join(output_dir, fname)\n",
    "        square_img.save(out_path)"
   ]
  },
  {
   "cell_type": "code",
   "execution_count": null,
   "id": "b975b728",
   "metadata": {},
   "outputs": [],
   "source": []
  }
 ],
 "metadata": {
  "kernelspec": {
   "display_name": "Python 3",
   "language": "python",
   "name": "python3"
  },
  "language_info": {
   "codemirror_mode": {
    "name": "ipython",
    "version": 3
   },
   "file_extension": ".py",
   "mimetype": "text/x-python",
   "name": "python",
   "nbconvert_exporter": "python",
   "pygments_lexer": "ipython3",
   "version": "3.13.5"
  }
 },
 "nbformat": 4,
 "nbformat_minor": 5
}
